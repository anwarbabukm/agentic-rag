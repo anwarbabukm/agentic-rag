{
 "cells": [
  {
   "cell_type": "code",
   "execution_count": 1,
   "id": "7aa5f863",
   "metadata": {},
   "outputs": [
    {
     "name": "stdout",
     "output_type": "stream",
     "text": [
      "✅ Ollama is running: 200\n",
      "✅ Qdrant is running: 404\n",
      "✅ Neo4j is running: [1]\n"
     ]
    }
   ],
   "source": [
    "import requests\n",
    "\n",
    "def check_ollama():\n",
    "    try:\n",
    "        response = requests.get(\"http://localhost:11434\")\n",
    "        print(\"✅ Ollama is running:\", response.status_code)\n",
    "    except Exception as e:\n",
    "        print(\"❌ Ollama check failed:\", e)\n",
    "\n",
    "def check_qdrant():\n",
    "    try:\n",
    "        response = requests.get(\"http://localhost:6333/v1/collections\")\n",
    "        print(\"✅ Qdrant is running:\", response.status_code)\n",
    "    except Exception as e:\n",
    "        print(\"❌ Qdrant check failed:\", e)\n",
    "\n",
    "def check_neo4j():\n",
    "    try:\n",
    "        from neo4j import GraphDatabase\n",
    "        uri = \"bolt://localhost:7687\"\n",
    "        driver = GraphDatabase.driver(uri, auth=(\"neo4j\", \"test1234\"))\n",
    "        with driver.session() as session:\n",
    "            result = session.run(\"RETURN 1 AS result\")\n",
    "            print(\"✅ Neo4j is running:\", [r[\"result\"] for r in result])\n",
    "    except Exception as e:\n",
    "        print(\"❌ Neo4j check failed:\", e)\n",
    "\n",
    "if __name__ == \"__main__\":\n",
    "    check_ollama()\n",
    "    check_qdrant()\n",
    "    check_neo4j()\n"
   ]
  },
  {
   "cell_type": "code",
   "execution_count": 2,
   "id": "8c0cc855",
   "metadata": {},
   "outputs": [
    {
     "name": "stdout",
     "output_type": "stream",
     "text": [
      "{'title': 'qdrant - vector search engine', 'version': '1.14.0', 'commit': '3617a0111fc8590c4adcc6e88882b63ca4dda9e7'}\n"
     ]
    }
   ],
   "source": [
    "import requests\n",
    "\n",
    "# Check Qdrant version\n",
    "resp = requests.get(\"http://localhost:6333\")\n",
    "print(resp.json())\n"
   ]
  },
  {
   "cell_type": "code",
   "execution_count": 1,
   "id": "50b076ed",
   "metadata": {},
   "outputs": [
    {
     "name": "stdout",
     "output_type": "stream",
     "text": [
      "{\"result\":{\"collections\":[{\"name\":\"graphrag_knowledge_base\"}]},\"status\":\"ok\",\"time\":0.002656078}"
     ]
    }
   ],
   "source": [
    "!curl http://localhost:6333/collections"
   ]
  },
  {
   "cell_type": "code",
   "execution_count": null,
   "id": "a3275edd",
   "metadata": {},
   "outputs": [],
   "source": []
  }
 ],
 "metadata": {
  "kernelspec": {
   "display_name": ".venv",
   "language": "python",
   "name": "python3"
  },
  "language_info": {
   "codemirror_mode": {
    "name": "ipython",
    "version": 3
   },
   "file_extension": ".py",
   "mimetype": "text/x-python",
   "name": "python",
   "nbconvert_exporter": "python",
   "pygments_lexer": "ipython3",
   "version": "3.9.6"
  }
 },
 "nbformat": 4,
 "nbformat_minor": 5
}
